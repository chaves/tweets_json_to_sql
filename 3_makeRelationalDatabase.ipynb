{
 "cells": [
  {
   "cell_type": "code",
   "execution_count": 1,
   "metadata": {},
   "outputs": [],
   "source": [
    "import pandas as pd"
   ]
  },
  {
   "cell_type": "code",
   "execution_count": 2,
   "metadata": {},
   "outputs": [],
   "source": [
    "OUTPUT = '_output'"
   ]
  },
  {
   "cell_type": "code",
   "execution_count": 3,
   "metadata": {},
   "outputs": [
    {
     "name": "stdout",
     "output_type": "stream",
     "text": [
      "<class 'pandas.core.frame.DataFrame'>\n",
      "Int64Index: 114781 entries, 0 to 114804\n",
      "Data columns (total 17 columns):\n",
      "favoriteCount    114781 non-null int64\n",
      "hashtags         114781 non-null object\n",
      "id               114781 non-null int64\n",
      "images           114781 non-null object\n",
      "isPinned         114781 non-null bool\n",
      "isReplyTo        114781 non-null bool\n",
      "isRetweet        114781 non-null bool\n",
      "quote            1228 non-null object\n",
      "replyCount       114781 non-null int64\n",
      "retweetCount     114781 non-null int64\n",
      "screenName       114781 non-null object\n",
      "text             114781 non-null object\n",
      "time             114781 non-null object\n",
      "urls             114781 non-null object\n",
      "userMentions     114781 non-null object\n",
      "date             114781 non-null object\n",
      "time_new         114781 non-null object\n",
      "dtypes: bool(3), int64(4), object(10)\n",
      "memory usage: 13.5+ MB\n"
     ]
    }
   ],
   "source": [
    "df = pd.read_pickle('{}/total_old_clean.pickle'.format(OUTPUT))\n",
    "df.info()"
   ]
  },
  {
   "cell_type": "code",
   "execution_count": 4,
   "metadata": {},
   "outputs": [
    {
     "data": {
      "text/html": [
       "<div>\n",
       "<style scoped>\n",
       "    .dataframe tbody tr th:only-of-type {\n",
       "        vertical-align: middle;\n",
       "    }\n",
       "\n",
       "    .dataframe tbody tr th {\n",
       "        vertical-align: top;\n",
       "    }\n",
       "\n",
       "    .dataframe thead th {\n",
       "        text-align: right;\n",
       "    }\n",
       "</style>\n",
       "<table border=\"1\" class=\"dataframe\">\n",
       "  <thead>\n",
       "    <tr style=\"text-align: right;\">\n",
       "      <th></th>\n",
       "      <th>favoriteCount</th>\n",
       "      <th>hashtags</th>\n",
       "      <th>id</th>\n",
       "      <th>images</th>\n",
       "      <th>isPinned</th>\n",
       "      <th>isReplyTo</th>\n",
       "      <th>isRetweet</th>\n",
       "      <th>quote</th>\n",
       "      <th>replyCount</th>\n",
       "      <th>retweetCount</th>\n",
       "      <th>screenName</th>\n",
       "      <th>text</th>\n",
       "      <th>time</th>\n",
       "      <th>urls</th>\n",
       "      <th>userMentions</th>\n",
       "      <th>date</th>\n",
       "      <th>time_new</th>\n",
       "    </tr>\n",
       "  </thead>\n",
       "  <tbody>\n",
       "    <tr>\n",
       "      <th>0</th>\n",
       "      <td>0</td>\n",
       "      <td>[]</td>\n",
       "      <td>633427986943860736</td>\n",
       "      <td>[]</td>\n",
       "      <td>False</td>\n",
       "      <td>False</td>\n",
       "      <td>False</td>\n",
       "      <td>NaN</td>\n",
       "      <td>1</td>\n",
       "      <td>0</td>\n",
       "      <td>FowlerVW</td>\n",
       "      <td>Volkswagen Invented A Self-Driving Stroller An...</td>\n",
       "      <td>2015-08-17T23:59:35.000Z</td>\n",
       "      <td>[{'url': 'http://www.buzzfeed.com/abagg/babys-...</td>\n",
       "      <td>[]</td>\n",
       "      <td>2015-08-17</td>\n",
       "      <td>23:59:35</td>\n",
       "    </tr>\n",
       "    <tr>\n",
       "      <th>1</th>\n",
       "      <td>0</td>\n",
       "      <td>[{'hashtag': '2015', 'indices': [18, 23]}, {'h...</td>\n",
       "      <td>633427655807922176</td>\n",
       "      <td>[]</td>\n",
       "      <td>False</td>\n",
       "      <td>False</td>\n",
       "      <td>False</td>\n",
       "      <td>NaN</td>\n",
       "      <td>0</td>\n",
       "      <td>0</td>\n",
       "      <td>BradReusing</td>\n",
       "      <td>Old exhaust off.  #2015 #volkswagen #golf #tdi...</td>\n",
       "      <td>2015-08-17T23:58:16.000Z</td>\n",
       "      <td>[{'url': 'https://instagram.com/p/6gO6c1sN2X/'...</td>\n",
       "      <td>[]</td>\n",
       "      <td>2015-08-17</td>\n",
       "      <td>23:58:16</td>\n",
       "    </tr>\n",
       "  </tbody>\n",
       "</table>\n",
       "</div>"
      ],
      "text/plain": [
       "   favoriteCount                                           hashtags  \\\n",
       "0              0                                                 []   \n",
       "1              0  [{'hashtag': '2015', 'indices': [18, 23]}, {'h...   \n",
       "\n",
       "                   id images  isPinned  isReplyTo  isRetweet quote  \\\n",
       "0  633427986943860736     []     False      False      False   NaN   \n",
       "1  633427655807922176     []     False      False      False   NaN   \n",
       "\n",
       "   replyCount  retweetCount   screenName  \\\n",
       "0           1             0     FowlerVW   \n",
       "1           0             0  BradReusing   \n",
       "\n",
       "                                                text  \\\n",
       "0  Volkswagen Invented A Self-Driving Stroller An...   \n",
       "1  Old exhaust off.  #2015 #volkswagen #golf #tdi...   \n",
       "\n",
       "                       time  \\\n",
       "0  2015-08-17T23:59:35.000Z   \n",
       "1  2015-08-17T23:58:16.000Z   \n",
       "\n",
       "                                                urls userMentions        date  \\\n",
       "0  [{'url': 'http://www.buzzfeed.com/abagg/babys-...           []  2015-08-17   \n",
       "1  [{'url': 'https://instagram.com/p/6gO6c1sN2X/'...           []  2015-08-17   \n",
       "\n",
       "   time_new  \n",
       "0  23:59:35  \n",
       "1  23:58:16  "
      ]
     },
     "execution_count": 4,
     "metadata": {},
     "output_type": "execute_result"
    }
   ],
   "source": [
    "df.head(2)"
   ]
  },
  {
   "cell_type": "markdown",
   "metadata": {},
   "source": [
    "### Hashtags"
   ]
  },
  {
   "cell_type": "code",
   "execution_count": 5,
   "metadata": {},
   "outputs": [],
   "source": [
    "no_hashtags = ['volkswagen','vw']\n",
    "liste_hashtags = []\n",
    "for index, row in df.iterrows():\n",
    "    id = row['id']\n",
    "    screenName = row['screenName']\n",
    "    date = row['date']\n",
    "    hashtags = row['hashtags']\n",
    "    for item in hashtags:\n",
    "        item = item['hashtag'].lower()\n",
    "        if item not in no_hashtags:\n",
    "            liste_hashtags.append((id, screenName, date, item))"
   ]
  },
  {
   "cell_type": "code",
   "execution_count": 6,
   "metadata": {},
   "outputs": [],
   "source": [
    "df_hashtags = pd.DataFrame.from_records(liste_hashtags, columns=['id','screenName', 'date', 'hashtags'])"
   ]
  },
  {
   "cell_type": "code",
   "execution_count": 7,
   "metadata": {},
   "outputs": [
    {
     "name": "stdout",
     "output_type": "stream",
     "text": [
      "<class 'pandas.core.frame.DataFrame'>\n",
      "RangeIndex: 84635 entries, 0 to 84634\n",
      "Data columns (total 4 columns):\n",
      "id            84635 non-null int64\n",
      "screenName    84635 non-null object\n",
      "date          84635 non-null object\n",
      "hashtags      84635 non-null object\n",
      "dtypes: int64(1), object(3)\n",
      "memory usage: 2.6+ MB\n"
     ]
    }
   ],
   "source": [
    "df_hashtags.info()"
   ]
  },
  {
   "cell_type": "code",
   "execution_count": 8,
   "metadata": {},
   "outputs": [
    {
     "data": {
      "text/html": [
       "<div>\n",
       "<style scoped>\n",
       "    .dataframe tbody tr th:only-of-type {\n",
       "        vertical-align: middle;\n",
       "    }\n",
       "\n",
       "    .dataframe tbody tr th {\n",
       "        vertical-align: top;\n",
       "    }\n",
       "\n",
       "    .dataframe thead th {\n",
       "        text-align: right;\n",
       "    }\n",
       "</style>\n",
       "<table border=\"1\" class=\"dataframe\">\n",
       "  <thead>\n",
       "    <tr style=\"text-align: right;\">\n",
       "      <th></th>\n",
       "      <th>id</th>\n",
       "      <th>screenName</th>\n",
       "      <th>date</th>\n",
       "      <th>hashtags</th>\n",
       "    </tr>\n",
       "  </thead>\n",
       "  <tbody>\n",
       "    <tr>\n",
       "      <th>0</th>\n",
       "      <td>633427655807922176</td>\n",
       "      <td>BradReusing</td>\n",
       "      <td>2015-08-17</td>\n",
       "      <td>2015</td>\n",
       "    </tr>\n",
       "    <tr>\n",
       "      <th>1</th>\n",
       "      <td>633427655807922176</td>\n",
       "      <td>BradReusing</td>\n",
       "      <td>2015-08-17</td>\n",
       "      <td>golf</td>\n",
       "    </tr>\n",
       "    <tr>\n",
       "      <th>2</th>\n",
       "      <td>633427655807922176</td>\n",
       "      <td>BradReusing</td>\n",
       "      <td>2015-08-17</td>\n",
       "      <td>tdi</td>\n",
       "    </tr>\n",
       "    <tr>\n",
       "      <th>3</th>\n",
       "      <td>633427655807922176</td>\n",
       "      <td>BradReusing</td>\n",
       "      <td>2015-08-17</td>\n",
       "      <td>diesel</td>\n",
       "    </tr>\n",
       "    <tr>\n",
       "      <th>4</th>\n",
       "      <td>633427655807922176</td>\n",
       "      <td>BradReusing</td>\n",
       "      <td>2015-08-17</td>\n",
       "      <td>volksnation</td>\n",
       "    </tr>\n",
       "  </tbody>\n",
       "</table>\n",
       "</div>"
      ],
      "text/plain": [
       "                   id   screenName        date     hashtags\n",
       "0  633427655807922176  BradReusing  2015-08-17         2015\n",
       "1  633427655807922176  BradReusing  2015-08-17         golf\n",
       "2  633427655807922176  BradReusing  2015-08-17          tdi\n",
       "3  633427655807922176  BradReusing  2015-08-17       diesel\n",
       "4  633427655807922176  BradReusing  2015-08-17  volksnation"
      ]
     },
     "execution_count": 8,
     "metadata": {},
     "output_type": "execute_result"
    }
   ],
   "source": [
    "df_hashtags.head()"
   ]
  },
  {
   "cell_type": "code",
   "execution_count": 9,
   "metadata": {},
   "outputs": [],
   "source": [
    "df_hashtags.to_pickle('{}/liste_old_hashtags.pickle'.format(OUTPUT))"
   ]
  },
  {
   "cell_type": "markdown",
   "metadata": {},
   "source": [
    "### Mentions"
   ]
  },
  {
   "cell_type": "code",
   "execution_count": 10,
   "metadata": {},
   "outputs": [],
   "source": [
    "liste_userMentions = []\n",
    "for index, row in df.iterrows():\n",
    "    id = row['id']\n",
    "    screenName = row['screenName']\n",
    "    date = row['date']\n",
    "    userMentions = row['userMentions']\n",
    "    for item in userMentions:\n",
    "        item = item['screenName'].lower()\n",
    "        liste_userMentions.append((id, screenName, date, item))"
   ]
  },
  {
   "cell_type": "code",
   "execution_count": 11,
   "metadata": {},
   "outputs": [],
   "source": [
    "df_userMentions = pd.DataFrame.from_records(liste_userMentions, columns=['id','screenName', 'date', 'userMentions'])"
   ]
  },
  {
   "cell_type": "code",
   "execution_count": 12,
   "metadata": {},
   "outputs": [
    {
     "name": "stdout",
     "output_type": "stream",
     "text": [
      "<class 'pandas.core.frame.DataFrame'>\n",
      "RangeIndex: 43564 entries, 0 to 43563\n",
      "Data columns (total 4 columns):\n",
      "id              43564 non-null int64\n",
      "screenName      43564 non-null object\n",
      "date            43564 non-null object\n",
      "userMentions    43564 non-null object\n",
      "dtypes: int64(1), object(3)\n",
      "memory usage: 1.3+ MB\n"
     ]
    }
   ],
   "source": [
    "df_userMentions.info()"
   ]
  },
  {
   "cell_type": "code",
   "execution_count": 13,
   "metadata": {},
   "outputs": [
    {
     "data": {
      "text/html": [
       "<div>\n",
       "<style scoped>\n",
       "    .dataframe tbody tr th:only-of-type {\n",
       "        vertical-align: middle;\n",
       "    }\n",
       "\n",
       "    .dataframe tbody tr th {\n",
       "        vertical-align: top;\n",
       "    }\n",
       "\n",
       "    .dataframe thead th {\n",
       "        text-align: right;\n",
       "    }\n",
       "</style>\n",
       "<table border=\"1\" class=\"dataframe\">\n",
       "  <thead>\n",
       "    <tr style=\"text-align: right;\">\n",
       "      <th></th>\n",
       "      <th>id</th>\n",
       "      <th>screenName</th>\n",
       "      <th>date</th>\n",
       "      <th>userMentions</th>\n",
       "    </tr>\n",
       "  </thead>\n",
       "  <tbody>\n",
       "    <tr>\n",
       "      <th>0</th>\n",
       "      <td>633427434432413696</td>\n",
       "      <td>chuckheffernan</td>\n",
       "      <td>2015-08-17</td>\n",
       "      <td>volkswagen</td>\n",
       "    </tr>\n",
       "    <tr>\n",
       "      <th>1</th>\n",
       "      <td>633424835327197184</td>\n",
       "      <td>nuxnix</td>\n",
       "      <td>2015-08-17</td>\n",
       "      <td>cnnmoney</td>\n",
       "    </tr>\n",
       "    <tr>\n",
       "      <th>2</th>\n",
       "      <td>633424329070370816</td>\n",
       "      <td>interest1959</td>\n",
       "      <td>2015-08-17</td>\n",
       "      <td>aboutlawsuits</td>\n",
       "    </tr>\n",
       "    <tr>\n",
       "      <th>3</th>\n",
       "      <td>633424329070370816</td>\n",
       "      <td>interest1959</td>\n",
       "      <td>2015-08-17</td>\n",
       "      <td>sharethis</td>\n",
       "    </tr>\n",
       "    <tr>\n",
       "      <th>4</th>\n",
       "      <td>633424074564345856</td>\n",
       "      <td>Truckworld_TV</td>\n",
       "      <td>2015-08-17</td>\n",
       "      <td>youtube</td>\n",
       "    </tr>\n",
       "  </tbody>\n",
       "</table>\n",
       "</div>"
      ],
      "text/plain": [
       "                   id      screenName        date   userMentions\n",
       "0  633427434432413696  chuckheffernan  2015-08-17     volkswagen\n",
       "1  633424835327197184          nuxnix  2015-08-17       cnnmoney\n",
       "2  633424329070370816    interest1959  2015-08-17  aboutlawsuits\n",
       "3  633424329070370816    interest1959  2015-08-17      sharethis\n",
       "4  633424074564345856   Truckworld_TV  2015-08-17        youtube"
      ]
     },
     "execution_count": 13,
     "metadata": {},
     "output_type": "execute_result"
    }
   ],
   "source": [
    "df_userMentions.head()"
   ]
  },
  {
   "cell_type": "code",
   "execution_count": 14,
   "metadata": {},
   "outputs": [],
   "source": [
    "df_userMentions.to_pickle('{}/liste_old_userMentions.pickle'.format(OUTPUT))"
   ]
  },
  {
   "cell_type": "markdown",
   "metadata": {},
   "source": [
    "### Urls"
   ]
  },
  {
   "cell_type": "code",
   "execution_count": 15,
   "metadata": {},
   "outputs": [],
   "source": [
    "liste_urls = []\n",
    "for index, row in df.iterrows():\n",
    "    id = row['id']\n",
    "    screenName = row['screenName']\n",
    "    date = row['date']\n",
    "    urls = row['urls']\n",
    "    for url in urls:\n",
    "        url = url['url'].lower()\n",
    "        liste_urls.append((id, screenName, date, url))"
   ]
  },
  {
   "cell_type": "code",
   "execution_count": 16,
   "metadata": {},
   "outputs": [],
   "source": [
    "df_urls = pd.DataFrame.from_records(liste_urls, columns=['id','screenName', 'date', 'urls'])"
   ]
  },
  {
   "cell_type": "code",
   "execution_count": 17,
   "metadata": {},
   "outputs": [
    {
     "name": "stdout",
     "output_type": "stream",
     "text": [
      "<class 'pandas.core.frame.DataFrame'>\n",
      "RangeIndex: 74480 entries, 0 to 74479\n",
      "Data columns (total 4 columns):\n",
      "id            74480 non-null int64\n",
      "screenName    74480 non-null object\n",
      "date          74480 non-null object\n",
      "urls          74480 non-null object\n",
      "dtypes: int64(1), object(3)\n",
      "memory usage: 2.3+ MB\n"
     ]
    }
   ],
   "source": [
    "df_urls.info()"
   ]
  },
  {
   "cell_type": "code",
   "execution_count": 18,
   "metadata": {},
   "outputs": [
    {
     "data": {
      "text/html": [
       "<div>\n",
       "<style scoped>\n",
       "    .dataframe tbody tr th:only-of-type {\n",
       "        vertical-align: middle;\n",
       "    }\n",
       "\n",
       "    .dataframe tbody tr th {\n",
       "        vertical-align: top;\n",
       "    }\n",
       "\n",
       "    .dataframe thead th {\n",
       "        text-align: right;\n",
       "    }\n",
       "</style>\n",
       "<table border=\"1\" class=\"dataframe\">\n",
       "  <thead>\n",
       "    <tr style=\"text-align: right;\">\n",
       "      <th></th>\n",
       "      <th>id</th>\n",
       "      <th>screenName</th>\n",
       "      <th>date</th>\n",
       "      <th>urls</th>\n",
       "    </tr>\n",
       "  </thead>\n",
       "  <tbody>\n",
       "    <tr>\n",
       "      <th>0</th>\n",
       "      <td>633427986943860736</td>\n",
       "      <td>FowlerVW</td>\n",
       "      <td>2015-08-17</td>\n",
       "      <td>http://www.buzzfeed.com/abagg/babys-first-car</td>\n",
       "    </tr>\n",
       "    <tr>\n",
       "      <th>1</th>\n",
       "      <td>633427655807922176</td>\n",
       "      <td>BradReusing</td>\n",
       "      <td>2015-08-17</td>\n",
       "      <td>https://instagram.com/p/6go6c1sn2x/</td>\n",
       "    </tr>\n",
       "    <tr>\n",
       "      <th>2</th>\n",
       "      <td>633427516393455616</td>\n",
       "      <td>BradReusing</td>\n",
       "      <td>2015-08-17</td>\n",
       "      <td>https://instagram.com/p/6gpumcmn3m/</td>\n",
       "    </tr>\n",
       "    <tr>\n",
       "      <th>3</th>\n",
       "      <td>633427496436805632</td>\n",
       "      <td>USClassicAutos</td>\n",
       "      <td>2015-08-17</td>\n",
       "      <td>http://rssdata.net/btgshj</td>\n",
       "    </tr>\n",
       "    <tr>\n",
       "      <th>4</th>\n",
       "      <td>633425669058228224</td>\n",
       "      <td>vehiclenewz</td>\n",
       "      <td>2015-08-17</td>\n",
       "      <td>http://www.vehiclenews.net/volkswagen-e-golf-r...</td>\n",
       "    </tr>\n",
       "  </tbody>\n",
       "</table>\n",
       "</div>"
      ],
      "text/plain": [
       "                   id      screenName        date  \\\n",
       "0  633427986943860736        FowlerVW  2015-08-17   \n",
       "1  633427655807922176     BradReusing  2015-08-17   \n",
       "2  633427516393455616     BradReusing  2015-08-17   \n",
       "3  633427496436805632  USClassicAutos  2015-08-17   \n",
       "4  633425669058228224     vehiclenewz  2015-08-17   \n",
       "\n",
       "                                                urls  \n",
       "0      http://www.buzzfeed.com/abagg/babys-first-car  \n",
       "1                https://instagram.com/p/6go6c1sn2x/  \n",
       "2                https://instagram.com/p/6gpumcmn3m/  \n",
       "3                          http://rssdata.net/btgshj  \n",
       "4  http://www.vehiclenews.net/volkswagen-e-golf-r...  "
      ]
     },
     "execution_count": 18,
     "metadata": {},
     "output_type": "execute_result"
    }
   ],
   "source": [
    "df_urls.head()"
   ]
  },
  {
   "cell_type": "code",
   "execution_count": 19,
   "metadata": {},
   "outputs": [],
   "source": [
    "df_urls.to_pickle('{}/liste_old_urls.pickle'.format(OUTPUT))"
   ]
  },
  {
   "cell_type": "markdown",
   "metadata": {},
   "source": [
    "### Clean array data tin the Tweets table"
   ]
  },
  {
   "cell_type": "code",
   "execution_count": 20,
   "metadata": {},
   "outputs": [],
   "source": [
    "df2 = df.drop(['hashtags', 'images', 'urls', 'userMentions', 'quote'], axis=1)"
   ]
  },
  {
   "cell_type": "code",
   "execution_count": 21,
   "metadata": {},
   "outputs": [],
   "source": [
    "df2.to_pickle('{}/total_old_clean_no_arrays.pickle'.format(OUTPUT))"
   ]
  },
  {
   "cell_type": "code",
   "execution_count": 22,
   "metadata": {},
   "outputs": [
    {
     "data": {
      "text/html": [
       "<div>\n",
       "<style scoped>\n",
       "    .dataframe tbody tr th:only-of-type {\n",
       "        vertical-align: middle;\n",
       "    }\n",
       "\n",
       "    .dataframe tbody tr th {\n",
       "        vertical-align: top;\n",
       "    }\n",
       "\n",
       "    .dataframe thead th {\n",
       "        text-align: right;\n",
       "    }\n",
       "</style>\n",
       "<table border=\"1\" class=\"dataframe\">\n",
       "  <thead>\n",
       "    <tr style=\"text-align: right;\">\n",
       "      <th></th>\n",
       "      <th>favoriteCount</th>\n",
       "      <th>id</th>\n",
       "      <th>isPinned</th>\n",
       "      <th>isReplyTo</th>\n",
       "      <th>isRetweet</th>\n",
       "      <th>replyCount</th>\n",
       "      <th>retweetCount</th>\n",
       "      <th>screenName</th>\n",
       "      <th>text</th>\n",
       "      <th>time</th>\n",
       "      <th>date</th>\n",
       "      <th>time_new</th>\n",
       "    </tr>\n",
       "  </thead>\n",
       "  <tbody>\n",
       "    <tr>\n",
       "      <th>0</th>\n",
       "      <td>0</td>\n",
       "      <td>633427986943860736</td>\n",
       "      <td>False</td>\n",
       "      <td>False</td>\n",
       "      <td>False</td>\n",
       "      <td>1</td>\n",
       "      <td>0</td>\n",
       "      <td>FowlerVW</td>\n",
       "      <td>Volkswagen Invented A Self-Driving Stroller An...</td>\n",
       "      <td>2015-08-17T23:59:35.000Z</td>\n",
       "      <td>2015-08-17</td>\n",
       "      <td>23:59:35</td>\n",
       "    </tr>\n",
       "    <tr>\n",
       "      <th>1</th>\n",
       "      <td>0</td>\n",
       "      <td>633427655807922176</td>\n",
       "      <td>False</td>\n",
       "      <td>False</td>\n",
       "      <td>False</td>\n",
       "      <td>0</td>\n",
       "      <td>0</td>\n",
       "      <td>BradReusing</td>\n",
       "      <td>Old exhaust off.  #2015 #volkswagen #golf #tdi...</td>\n",
       "      <td>2015-08-17T23:58:16.000Z</td>\n",
       "      <td>2015-08-17</td>\n",
       "      <td>23:58:16</td>\n",
       "    </tr>\n",
       "    <tr>\n",
       "      <th>2</th>\n",
       "      <td>0</td>\n",
       "      <td>633427516393455616</td>\n",
       "      <td>False</td>\n",
       "      <td>False</td>\n",
       "      <td>False</td>\n",
       "      <td>0</td>\n",
       "      <td>0</td>\n",
       "      <td>BradReusing</td>\n",
       "      <td>New exhaust on.  #2015 #volkswagen #golf #tdi ...</td>\n",
       "      <td>2015-08-17T23:57:43.000Z</td>\n",
       "      <td>2015-08-17</td>\n",
       "      <td>23:57:43</td>\n",
       "    </tr>\n",
       "    <tr>\n",
       "      <th>3</th>\n",
       "      <td>0</td>\n",
       "      <td>633427496436805632</td>\n",
       "      <td>False</td>\n",
       "      <td>False</td>\n",
       "      <td>False</td>\n",
       "      <td>0</td>\n",
       "      <td>0</td>\n",
       "      <td>USClassicAutos</td>\n",
       "      <td>For Sale: Volkswagen : Beetle - Classic 1965 v...</td>\n",
       "      <td>2015-08-17T23:57:38.000Z</td>\n",
       "      <td>2015-08-17</td>\n",
       "      <td>23:57:38</td>\n",
       "    </tr>\n",
       "    <tr>\n",
       "      <th>4</th>\n",
       "      <td>0</td>\n",
       "      <td>633427434432413696</td>\n",
       "      <td>False</td>\n",
       "      <td>False</td>\n",
       "      <td>False</td>\n",
       "      <td>0</td>\n",
       "      <td>0</td>\n",
       "      <td>chuckheffernan</td>\n",
       "      <td>@Volkswagen If your ads had old men doing what...</td>\n",
       "      <td>2015-08-17T23:57:23.000Z</td>\n",
       "      <td>2015-08-17</td>\n",
       "      <td>23:57:23</td>\n",
       "    </tr>\n",
       "  </tbody>\n",
       "</table>\n",
       "</div>"
      ],
      "text/plain": [
       "   favoriteCount                  id  isPinned  isReplyTo  isRetweet  \\\n",
       "0              0  633427986943860736     False      False      False   \n",
       "1              0  633427655807922176     False      False      False   \n",
       "2              0  633427516393455616     False      False      False   \n",
       "3              0  633427496436805632     False      False      False   \n",
       "4              0  633427434432413696     False      False      False   \n",
       "\n",
       "   replyCount  retweetCount      screenName  \\\n",
       "0           1             0        FowlerVW   \n",
       "1           0             0     BradReusing   \n",
       "2           0             0     BradReusing   \n",
       "3           0             0  USClassicAutos   \n",
       "4           0             0  chuckheffernan   \n",
       "\n",
       "                                                text  \\\n",
       "0  Volkswagen Invented A Self-Driving Stroller An...   \n",
       "1  Old exhaust off.  #2015 #volkswagen #golf #tdi...   \n",
       "2  New exhaust on.  #2015 #volkswagen #golf #tdi ...   \n",
       "3  For Sale: Volkswagen : Beetle - Classic 1965 v...   \n",
       "4  @Volkswagen If your ads had old men doing what...   \n",
       "\n",
       "                       time        date  time_new  \n",
       "0  2015-08-17T23:59:35.000Z  2015-08-17  23:59:35  \n",
       "1  2015-08-17T23:58:16.000Z  2015-08-17  23:58:16  \n",
       "2  2015-08-17T23:57:43.000Z  2015-08-17  23:57:43  \n",
       "3  2015-08-17T23:57:38.000Z  2015-08-17  23:57:38  \n",
       "4  2015-08-17T23:57:23.000Z  2015-08-17  23:57:23  "
      ]
     },
     "execution_count": 22,
     "metadata": {},
     "output_type": "execute_result"
    }
   ],
   "source": [
    "df2.head()"
   ]
  },
  {
   "cell_type": "code",
   "execution_count": null,
   "metadata": {},
   "outputs": [],
   "source": []
  },
  {
   "cell_type": "code",
   "execution_count": null,
   "metadata": {},
   "outputs": [],
   "source": []
  }
 ],
 "metadata": {
  "kernelspec": {
   "display_name": "Python 3",
   "language": "python",
   "name": "python3"
  },
  "language_info": {
   "codemirror_mode": {
    "name": "ipython",
    "version": 3
   },
   "file_extension": ".py",
   "mimetype": "text/x-python",
   "name": "python",
   "nbconvert_exporter": "python",
   "pygments_lexer": "ipython3",
   "version": "3.6.3"
  }
 },
 "nbformat": 4,
 "nbformat_minor": 2
}
