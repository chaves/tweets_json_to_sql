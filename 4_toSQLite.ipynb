{
 "cells": [
  {
   "cell_type": "code",
   "execution_count": 1,
   "metadata": {},
   "outputs": [],
   "source": [
    "import pandas as pd\n",
    "from sqlalchemy import create_engine"
   ]
  },
  {
   "cell_type": "code",
   "execution_count": 2,
   "metadata": {},
   "outputs": [],
   "source": [
    "OUTPUT = '_output'"
   ]
  },
  {
   "cell_type": "code",
   "execution_count": 3,
   "metadata": {},
   "outputs": [],
   "source": [
    "df = pd.read_pickle('{}/total_old_clean_no_arrays.pickle'.format(OUTPUT))"
   ]
  },
  {
   "cell_type": "code",
   "execution_count": 4,
   "metadata": {},
   "outputs": [
    {
     "data": {
      "text/html": [
       "<div>\n",
       "<style scoped>\n",
       "    .dataframe tbody tr th:only-of-type {\n",
       "        vertical-align: middle;\n",
       "    }\n",
       "\n",
       "    .dataframe tbody tr th {\n",
       "        vertical-align: top;\n",
       "    }\n",
       "\n",
       "    .dataframe thead th {\n",
       "        text-align: right;\n",
       "    }\n",
       "</style>\n",
       "<table border=\"1\" class=\"dataframe\">\n",
       "  <thead>\n",
       "    <tr style=\"text-align: right;\">\n",
       "      <th></th>\n",
       "      <th>favoriteCount</th>\n",
       "      <th>id</th>\n",
       "      <th>isPinned</th>\n",
       "      <th>isReplyTo</th>\n",
       "      <th>isRetweet</th>\n",
       "      <th>replyCount</th>\n",
       "      <th>retweetCount</th>\n",
       "      <th>screenName</th>\n",
       "      <th>text</th>\n",
       "      <th>time</th>\n",
       "      <th>date</th>\n",
       "      <th>time_new</th>\n",
       "    </tr>\n",
       "  </thead>\n",
       "  <tbody>\n",
       "    <tr>\n",
       "      <th>0</th>\n",
       "      <td>0</td>\n",
       "      <td>633427986943860736</td>\n",
       "      <td>False</td>\n",
       "      <td>False</td>\n",
       "      <td>False</td>\n",
       "      <td>1</td>\n",
       "      <td>0</td>\n",
       "      <td>FowlerVW</td>\n",
       "      <td>Volkswagen Invented A Self-Driving Stroller An...</td>\n",
       "      <td>2015-08-17T23:59:35.000Z</td>\n",
       "      <td>2015-08-17</td>\n",
       "      <td>23:59:35</td>\n",
       "    </tr>\n",
       "    <tr>\n",
       "      <th>1</th>\n",
       "      <td>0</td>\n",
       "      <td>633427655807922176</td>\n",
       "      <td>False</td>\n",
       "      <td>False</td>\n",
       "      <td>False</td>\n",
       "      <td>0</td>\n",
       "      <td>0</td>\n",
       "      <td>BradReusing</td>\n",
       "      <td>Old exhaust off.  #2015 #volkswagen #golf #tdi...</td>\n",
       "      <td>2015-08-17T23:58:16.000Z</td>\n",
       "      <td>2015-08-17</td>\n",
       "      <td>23:58:16</td>\n",
       "    </tr>\n",
       "    <tr>\n",
       "      <th>2</th>\n",
       "      <td>0</td>\n",
       "      <td>633427516393455616</td>\n",
       "      <td>False</td>\n",
       "      <td>False</td>\n",
       "      <td>False</td>\n",
       "      <td>0</td>\n",
       "      <td>0</td>\n",
       "      <td>BradReusing</td>\n",
       "      <td>New exhaust on.  #2015 #volkswagen #golf #tdi ...</td>\n",
       "      <td>2015-08-17T23:57:43.000Z</td>\n",
       "      <td>2015-08-17</td>\n",
       "      <td>23:57:43</td>\n",
       "    </tr>\n",
       "    <tr>\n",
       "      <th>3</th>\n",
       "      <td>0</td>\n",
       "      <td>633427496436805632</td>\n",
       "      <td>False</td>\n",
       "      <td>False</td>\n",
       "      <td>False</td>\n",
       "      <td>0</td>\n",
       "      <td>0</td>\n",
       "      <td>USClassicAutos</td>\n",
       "      <td>For Sale: Volkswagen : Beetle - Classic 1965 v...</td>\n",
       "      <td>2015-08-17T23:57:38.000Z</td>\n",
       "      <td>2015-08-17</td>\n",
       "      <td>23:57:38</td>\n",
       "    </tr>\n",
       "    <tr>\n",
       "      <th>4</th>\n",
       "      <td>0</td>\n",
       "      <td>633427434432413696</td>\n",
       "      <td>False</td>\n",
       "      <td>False</td>\n",
       "      <td>False</td>\n",
       "      <td>0</td>\n",
       "      <td>0</td>\n",
       "      <td>chuckheffernan</td>\n",
       "      <td>@Volkswagen If your ads had old men doing what...</td>\n",
       "      <td>2015-08-17T23:57:23.000Z</td>\n",
       "      <td>2015-08-17</td>\n",
       "      <td>23:57:23</td>\n",
       "    </tr>\n",
       "  </tbody>\n",
       "</table>\n",
       "</div>"
      ],
      "text/plain": [
       "   favoriteCount                  id  isPinned  isReplyTo  isRetweet  \\\n",
       "0              0  633427986943860736     False      False      False   \n",
       "1              0  633427655807922176     False      False      False   \n",
       "2              0  633427516393455616     False      False      False   \n",
       "3              0  633427496436805632     False      False      False   \n",
       "4              0  633427434432413696     False      False      False   \n",
       "\n",
       "   replyCount  retweetCount      screenName  \\\n",
       "0           1             0        FowlerVW   \n",
       "1           0             0     BradReusing   \n",
       "2           0             0     BradReusing   \n",
       "3           0             0  USClassicAutos   \n",
       "4           0             0  chuckheffernan   \n",
       "\n",
       "                                                text  \\\n",
       "0  Volkswagen Invented A Self-Driving Stroller An...   \n",
       "1  Old exhaust off.  #2015 #volkswagen #golf #tdi...   \n",
       "2  New exhaust on.  #2015 #volkswagen #golf #tdi ...   \n",
       "3  For Sale: Volkswagen : Beetle - Classic 1965 v...   \n",
       "4  @Volkswagen If your ads had old men doing what...   \n",
       "\n",
       "                       time        date  time_new  \n",
       "0  2015-08-17T23:59:35.000Z  2015-08-17  23:59:35  \n",
       "1  2015-08-17T23:58:16.000Z  2015-08-17  23:58:16  \n",
       "2  2015-08-17T23:57:43.000Z  2015-08-17  23:57:43  \n",
       "3  2015-08-17T23:57:38.000Z  2015-08-17  23:57:38  \n",
       "4  2015-08-17T23:57:23.000Z  2015-08-17  23:57:23  "
      ]
     },
     "execution_count": 4,
     "metadata": {},
     "output_type": "execute_result"
    }
   ],
   "source": [
    "df.head()"
   ]
  },
  {
   "cell_type": "code",
   "execution_count": 5,
   "metadata": {},
   "outputs": [],
   "source": [
    "# Create database\n",
    "disk_engine = create_engine('sqlite:///{}/tweets_old_2018-03-09.db'.format(OUTPUT))\n",
    "# Tweets table\n",
    "df.to_sql('tweets', disk_engine, if_exists='append')"
   ]
  },
  {
   "cell_type": "code",
   "execution_count": 8,
   "metadata": {},
   "outputs": [],
   "source": [
    "# Hashtags table\n",
    "df_hashtags = pd.read_pickle('{}/liste_old_hashtags.pickle'.format(OUTPUT))"
   ]
  },
  {
   "cell_type": "code",
   "execution_count": 9,
   "metadata": {},
   "outputs": [],
   "source": [
    "df_hashtags.to_sql('hashtags', disk_engine, if_exists='append')"
   ]
  },
  {
   "cell_type": "code",
   "execution_count": 10,
   "metadata": {},
   "outputs": [],
   "source": [
    "# userMentions table"
   ]
  },
  {
   "cell_type": "code",
   "execution_count": 11,
   "metadata": {},
   "outputs": [],
   "source": [
    "df_userMentions = pd.read_pickle('{}/liste_old_userMentions.pickle'.format(OUTPUT))"
   ]
  },
  {
   "cell_type": "code",
   "execution_count": 12,
   "metadata": {},
   "outputs": [],
   "source": [
    "df_userMentions.to_sql('userMentions', disk_engine, if_exists='append')"
   ]
  },
  {
   "cell_type": "code",
   "execution_count": 13,
   "metadata": {},
   "outputs": [],
   "source": [
    "# urls table"
   ]
  },
  {
   "cell_type": "code",
   "execution_count": 14,
   "metadata": {},
   "outputs": [],
   "source": [
    "df_urls = pd.read_pickle('{}/liste_old_urls.pickle'.format(OUTPUT))"
   ]
  },
  {
   "cell_type": "code",
   "execution_count": 15,
   "metadata": {},
   "outputs": [],
   "source": [
    "df_urls.to_sql('urls', disk_engine, if_exists='append')"
   ]
  },
  {
   "cell_type": "code",
   "execution_count": null,
   "metadata": {},
   "outputs": [],
   "source": []
  },
  {
   "cell_type": "code",
   "execution_count": null,
   "metadata": {},
   "outputs": [],
   "source": []
  }
 ],
 "metadata": {
  "kernelspec": {
   "display_name": "Python 3",
   "language": "python",
   "name": "python3"
  },
  "language_info": {
   "codemirror_mode": {
    "name": "ipython",
    "version": 3
   },
   "file_extension": ".py",
   "mimetype": "text/x-python",
   "name": "python",
   "nbconvert_exporter": "python",
   "pygments_lexer": "ipython3",
   "version": "3.6.3"
  }
 },
 "nbformat": 4,
 "nbformat_minor": 2
}
